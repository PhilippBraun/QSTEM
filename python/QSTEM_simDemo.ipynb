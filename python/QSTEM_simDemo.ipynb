{
 "metadata": {
  "name": "QSTEM_simDemo"
 },
 "nbformat": 3,
 "nbformat_minor": 0,
 "worksheets": [
  {
   "cells": [
    {
     "cell_type": "heading",
     "level": 1,
     "metadata": {},
     "source": [
      "Initializing environment for plotting"
     ]
    },
    {
     "cell_type": "code",
     "collapsed": false,
     "input": [
      "%pylab inline"
     ],
     "language": "python",
     "metadata": {},
     "outputs": [
      {
       "output_type": "stream",
       "stream": "stdout",
       "text": [
        "\n",
        "Welcome to pylab, a matplotlib-based Python environment [backend: module://IPython.zmq.pylab.backend_inline].\n",
        "For more information, type 'help(pylab)'.\n"
       ]
      }
     ],
     "prompt_number": 4
    },
    {
     "cell_type": "heading",
     "level": 1,
     "metadata": {},
     "source": [
      "Create a probe (fast)"
     ]
    },
    {
     "cell_type": "heading",
     "level": 2,
     "metadata": {},
     "source": [
      "Create the array over which we'll calculate"
     ]
    },
    {
     "cell_type": "code",
     "collapsed": false,
     "input": [],
     "language": "python",
     "metadata": {},
     "outputs": [],
     "prompt_number": 4
    },
    {
     "cell_type": "heading",
     "level": 2,
     "metadata": {},
     "source": [
      "Compute aberration function"
     ]
    },
    {
     "cell_type": "code",
     "collapsed": false,
     "input": [],
     "language": "python",
     "metadata": {},
     "outputs": [],
     "prompt_number": 4
    },
    {
     "cell_type": "code",
     "collapsed": false,
     "input": [],
     "language": "python",
     "metadata": {},
     "outputs": [],
     "prompt_number": 4
    },
    {
     "cell_type": "heading",
     "level": 2,
     "metadata": {},
     "source": [
      "All of the above steps, rolled into one, using a Python class"
     ]
    },
    {
     "cell_type": "code",
     "collapsed": false,
     "input": [
      "# this function comes from probe.py, which is part of QSTEM.\n",
      "from probe import probe\n",
      "p=probe()\n",
      "p.print_description()\n",
      "p.plot_real_space_amplitude()"
     ],
     "language": "python",
     "metadata": {},
     "outputs": [
      {
       "output_type": "stream",
       "stream": "stdout",
       "text": [
        "Voltage: 200\n",
        "Array size (pixels): 400\n",
        "Real space pixel size (A): 0.05000\n",
        "Convergence angle (mrad): 15.00\n",
        "Aberration amplitudes: \n",
        "[{'20': -60.0, '22': 0.0, '33': 0.0, '51': 0.0, '31': 0.0, '42': 0.0, '40': 1000.0, '60': 1.0, '55': 0.0, '62': 0.0, '64': 0.0, '53': 0.0, '66': 0.0, '44': 0.0}]\n",
        "Aberration angles: \n",
        "{'22': 0.0, '55': 0.0, '42': 0.0, '44': 0.0, '51': 0.0, '53': 0.0, '33': 0.0, '62': 0.0, '64': 0.0, '66': 0.0, '31': 0.0}\n"
       ]
      },
      {
       "output_type": "display_data",
       "png": "[encoded data removed]"
      }
     ],
     "prompt_number": 5
    },
    {
     "cell_type": "heading",
     "level": 1,
     "metadata": {},
     "source": [
      "Calculate 3D atom potential for each atom type (fast)"
     ]
    },
    {
     "cell_type": "heading",
     "level": 2,
     "metadata": {},
     "source": [
      "Look up scattering factors in table"
     ]
    },
    {
     "cell_type": "code",
     "collapsed": false,
     "input": [
      "import numpy as np\n",
      "scatFactors = np.loadtxt(\"SF_rez.txt\",delimiter=\",\")\n",
      "# There are 93 rows with 123 scattering factors, each.\n",
      "print scatFactors.shape\n",
      "# scatFactors[0] is the radius for the scattering factor\n",
      "# every other row is the corresponding element.  I.e. Carbon = scatFactors[6]\n",
      "# log of scattering factor is shown\n",
      "plt.plot(scatFactors[0],np.log(scatFactors[6]))\n",
      "plt.title(\"Carbon scattering factors\")\n",
      "plt.xlabel(\"Angstrom\")\n",
      "plt.ylabel(\"ln Scattering Factor\")"
     ],
     "language": "python",
     "metadata": {},
     "outputs": [
      {
       "output_type": "stream",
       "stream": "stdout",
       "text": [
        "(93L, 123L)\n"
       ]
      },
      {
       "output_type": "stream",
       "stream": "stderr",
       "text": [
        "-c:8: RuntimeWarning: divide by zero encountered in log\n"
       ]
      },
      {
       "output_type": "pyout",
       "prompt_number": 8,
       "text": [
        "<matplotlib.text.Text at 0x88779e8>"
       ]
      },
      {
       "output_type": "display_data",
       "png": "[encoded data removed]"
      }
     ],
     "prompt_number": 8
    },
    {
     "cell_type": "code",
     "collapsed": false,
     "input": [],
     "language": "python",
     "metadata": {},
     "outputs": []
    },
    {
     "cell_type": "heading",
     "level": 1,
     "metadata": {},
     "source": [
      "Calculate potential for scan volume (very slow)"
     ]
    },
    {
     "cell_type": "heading",
     "level": 2,
     "metadata": {},
     "source": [
      "Calculate which atoms live within slice bounds"
     ]
    },
    {
     "cell_type": "code",
     "collapsed": false,
     "input": [],
     "language": "python",
     "metadata": {},
     "outputs": [],
     "prompt_number": 3
    },
    {
     "cell_type": "heading",
     "level": 2,
     "metadata": {},
     "source": [
      "Add their potential to this slice"
     ]
    },
    {
     "cell_type": "code",
     "collapsed": false,
     "input": [],
     "language": "python",
     "metadata": {},
     "outputs": []
    },
    {
     "cell_type": "heading",
     "level": 2,
     "metadata": {},
     "source": [
      "Load pre-existing potential slices (for speed in this demo)"
     ]
    },
    {
     "cell_type": "code",
     "collapsed": false,
     "input": [
      "# this function comes from read_img.py, which is part of QSTEM.\n",
      "from read_img import binread2D\n",
      "# img, comment, t, dx, dy = binread2D(filename,False)"
     ],
     "language": "python",
     "metadata": {},
     "outputs": [],
     "prompt_number": 4
    },
    {
     "cell_type": "code",
     "collapsed": false,
     "input": [],
     "language": "python",
     "metadata": {},
     "outputs": [],
     "prompt_number": 4
    },
    {
     "cell_type": "heading",
     "level": 1,
     "metadata": {},
     "source": [
      "Propagation through slices (slow)"
     ]
    },
    {
     "cell_type": "code",
     "collapsed": false,
     "input": [],
     "language": "python",
     "metadata": {},
     "outputs": [],
     "prompt_number": 4
    },
    {
     "cell_type": "heading",
     "level": 1,
     "metadata": {},
     "source": [
      "Collection of intensity on detectors (fast)"
     ]
    },
    {
     "cell_type": "heading",
     "level": 2,
     "metadata": {},
     "source": [
      "Form the diffraction pattern"
     ]
    },
    {
     "cell_type": "code",
     "collapsed": false,
     "input": [],
     "language": "python",
     "metadata": {},
     "outputs": [],
     "prompt_number": 4
    },
    {
     "cell_type": "heading",
     "level": 2,
     "metadata": {},
     "source": [
      "Apply a mask to select the area of the detector"
     ]
    },
    {
     "cell_type": "code",
     "collapsed": false,
     "input": [],
     "language": "python",
     "metadata": {},
     "outputs": []
    },
    {
     "cell_type": "heading",
     "level": 2,
     "metadata": {},
     "source": [
      "Sum the intensity from that area"
     ]
    },
    {
     "cell_type": "code",
     "collapsed": false,
     "input": [],
     "language": "python",
     "metadata": {},
     "outputs": []
    },
    {
     "cell_type": "heading",
     "level": 1,
     "metadata": {},
     "source": [
      "One pixel done!  Repeat for each pixel in simulated image.  Parallelized - one pixel done per processor"
     ]
    },
    {
     "cell_type": "code",
     "collapsed": false,
     "input": [],
     "language": "python",
     "metadata": {},
     "outputs": []
    },
    {
     "cell_type": "heading",
     "level": 1,
     "metadata": {},
     "source": [
      "If TDS is enabled, apply random 3D offset to atom positions & repeat this whole process"
     ]
    }
   ],
   "metadata": {}
  }
 ]
}